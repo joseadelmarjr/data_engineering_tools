{
 "cells": [
  {
   "cell_type": "markdown",
   "metadata": {
    "id": "LVSy2BqsaSkj"
   },
   "source": [
    "# Setup Geral\n",
    "\n",
    "Se estiver executando este exercício no Google Colab, execute as próximas duas células. \n",
    "\n",
    "Caso esteja executando localmente, não é necessário executar mas certifique-se de que o **pyspark** está instalado e configurado em sua máquina."
   ]
  },
  {
   "cell_type": "code",
   "execution_count": null,
   "metadata": {
    "id": "NHPXuknHZ5Az"
   },
   "outputs": [],
   "source": [
    "%%bash\n",
    "\n",
    "# Instal Java\n",
    "apt-get update && apt-get install openjdk-8-jdk-headless -qq > /dev/null\n",
    "\n",
    "# Install PySpark\n",
    "pip install -q pyspark"
   ]
  },
  {
   "cell_type": "code",
   "execution_count": null,
   "metadata": {
    "id": "4dY12q0raXtc"
   },
   "outputs": [],
   "source": [
    "import os\n",
    "os.environ['JAVA_HOME'] = '/usr/lib/jvm/java-8-openjdk-amd64'\n",
    "\n",
    "from pyspark.sql import SparkSession\n",
    "\n",
    "spark = SparkSession.builder.master(\"local[*]\").getOrCreate()"
   ]
  },
  {
   "cell_type": "markdown",
   "metadata": {
    "id": "4iYs_aWqdXrh"
   },
   "source": [
    "# SQL"
   ]
  },
  {
   "cell_type": "markdown",
   "metadata": {
    "id": "mbIq-A9-gXdw"
   },
   "source": [
    "**Setup**\n"
   ]
  },
  {
   "cell_type": "code",
   "execution_count": 81,
   "metadata": {
    "id": "kHkTwPZmfV2t"
   },
   "outputs": [],
   "source": [
    "# Setup Spark Session\n",
    "from pyspark.sql import SparkSession\n",
    "spark = SparkSession.builder.appName(\"AtividadeSQL\").getOrCreate()"
   ]
  },
  {
   "cell_type": "code",
   "execution_count": 83,
   "metadata": {
    "id": "3kb1a6CwgSVd"
   },
   "outputs": [],
   "source": [
    "def cria_tabela(path, nome_tabela):\n",
    "    df = spark.read.csv(path, inferSchema=True, header=True)\n",
    "    df.createOrReplaceTempView(nome_tabela)\n",
    "    return df\n",
    "\n",
    "usuarios = cria_tabela(\"bases_teste/usuarios.csv\", \"usuarios\")\n",
    "produtos = cria_tabela(\"bases_teste/produtos.csv\", \"produtos\")\n",
    "vendas = cria_tabela(\"bases_teste/vendas.csv\", \"vendas\")"
   ]
  },
  {
   "cell_type": "markdown",
   "metadata": {
    "id": "6N5gLPYEg27q"
   },
   "source": [
    "**Função para execução de queries**"
   ]
  },
  {
   "cell_type": "code",
   "execution_count": 38,
   "metadata": {
    "id": "HtpEu2utg5Pb"
   },
   "outputs": [],
   "source": [
    "def q(query, n=30):\n",
    "    return spark.sql(query).show(n=n, truncate=False)"
   ]
  },
  {
   "cell_type": "markdown",
   "metadata": {
    "id": "s84UzyTqg9lH"
   },
   "source": [
    "Para executar alguma consulta, basta colocar seu código sql dentro da função q como no exemplo abaixo:\n",
    "\n",
    "```python\n",
    "q(\"\"\"\n",
    "    SELECT *\n",
    "    FROM usuarios\n",
    "\"\"\")\n",
    "```\n",
    "\n",
    "e o resultado será exibido na tela.\n",
    "\n",
    "---\n",
    "\n",
    "Nesta parte da atividade, você vai trabalhar com três tabelas:\n",
    "\n",
    "- produtos\n",
    "- usuarios\n",
    "- vendas\n",
    "\n",
    "Use-as para responder às perguntas a seguir."
   ]
  },
  {
   "cell_type": "markdown",
   "metadata": {
    "id": "Kxzvs2rVoxGk"
   },
   "source": [
    "1) Qual foi a quantidade de vendas nos estados de Minas Gerais e São Paulo para cada ano e mês?"
   ]
  },
  {
   "cell_type": "code",
   "execution_count": 84,
   "metadata": {
    "id": "eLe62-JehCDO"
   },
   "outputs": [
    {
     "name": "stdout",
     "output_type": "stream",
     "text": [
      "+------------+----------+----------+---------+\n",
      "|estado      |ano_compra|mes_compra|qtd_venda|\n",
      "+------------+----------+----------+---------+\n",
      "|Minas Gerais|2018      |6         |1        |\n",
      "|Minas Gerais|2018      |8         |1        |\n",
      "|Minas Gerais|2018      |10        |1        |\n",
      "|Minas Gerais|2018      |11        |1        |\n",
      "|Minas Gerais|2018      |12        |2        |\n",
      "|Minas Gerais|2019      |1         |2        |\n",
      "|Minas Gerais|2019      |2         |1        |\n",
      "|Minas Gerais|2019      |4         |2        |\n",
      "|Minas Gerais|2019      |5         |1        |\n",
      "|Minas Gerais|2019      |6         |1        |\n",
      "|Minas Gerais|2019      |7         |2        |\n",
      "|Minas Gerais|2019      |8         |1        |\n",
      "|Minas Gerais|2019      |9         |2        |\n",
      "|Minas Gerais|2019      |10        |1        |\n",
      "|Minas Gerais|2019      |11        |1        |\n",
      "|Minas Gerais|2019      |12        |3        |\n",
      "|Minas Gerais|2020      |1         |1        |\n",
      "|Minas Gerais|2020      |2         |1        |\n",
      "|Minas Gerais|2020      |3         |1        |\n",
      "|Minas Gerais|2020      |4         |1        |\n",
      "|Minas Gerais|2020      |5         |3        |\n",
      "|Minas Gerais|2020      |6         |3        |\n",
      "|Minas Gerais|2020      |7         |2        |\n",
      "|Minas Gerais|2020      |9         |3        |\n",
      "|Minas Gerais|2020      |10        |1        |\n",
      "|Minas Gerais|2020      |11        |3        |\n",
      "|Minas Gerais|2020      |12        |1        |\n",
      "|Minas Gerais|2021      |1         |2        |\n",
      "|Minas Gerais|2021      |2         |6        |\n",
      "|Minas Gerais|2021      |3         |1        |\n",
      "|Minas Gerais|2021      |4         |6        |\n",
      "|Minas Gerais|2021      |5         |4        |\n",
      "|Minas Gerais|2021      |6         |3        |\n",
      "|Minas Gerais|2021      |7         |5        |\n",
      "|São Paulo   |2018      |7         |1        |\n",
      "|São Paulo   |2018      |10        |1        |\n",
      "|São Paulo   |2019      |6         |1        |\n",
      "|São Paulo   |2019      |8         |1        |\n",
      "|São Paulo   |2020      |1         |1        |\n",
      "|São Paulo   |2020      |3         |1        |\n",
      "|São Paulo   |2020      |4         |1        |\n",
      "|São Paulo   |2020      |6         |1        |\n",
      "|São Paulo   |2020      |9         |2        |\n",
      "|São Paulo   |2020      |10        |4        |\n",
      "|São Paulo   |2021      |2         |1        |\n",
      "|São Paulo   |2021      |3         |1        |\n",
      "|São Paulo   |2021      |4         |3        |\n",
      "|São Paulo   |2021      |5         |2        |\n",
      "|São Paulo   |2021      |6         |6        |\n",
      "|São Paulo   |2021      |7         |11       |\n",
      "+------------+----------+----------+---------+\n",
      "\n"
     ]
    }
   ],
   "source": [
    "q(\"\"\"\n",
    "SELECT\n",
    " u.estado\n",
    ",YEAR(data_compra) AS ano_compra\n",
    ",MONTH(data_compra) AS mes_compra\n",
    ",COUNT(*) AS qtd_venda\n",
    "FROM\n",
    "vendas AS v\n",
    "INNER JOIN usuarios AS u ON u.cod_usuario = v.cod_usuario\n",
    "WHERE\n",
    "u.estado IN (\"Minas Gerais\", \"São Paulo\")\n",
    "GROUP BY\n",
    " u.estado\n",
    ",YEAR(data_compra)\n",
    ",MONTH(data_compra)\n",
    "ORDER BY\n",
    " u.estado\n",
    ",YEAR(data_compra)\n",
    ",MONTH(data_compra)\n",
    "\"\"\",n = 100)"
   ]
  },
  {
   "cell_type": "markdown",
   "metadata": {
    "id": "xzD4NiqHplgI"
   },
   "source": [
    "2) Quais são os usuários por Estado que mais compraram em todo o período analisado e qual foi o número de compras realizadas, a quantidade total de itens comprados e valor total pago por usuário?"
   ]
  },
  {
   "cell_type": "code",
   "execution_count": 59,
   "metadata": {
    "id": "bVV3Gnthp5hT"
   },
   "outputs": [
    {
     "name": "stdout",
     "output_type": "stream",
     "text": [
      "+-----------+-------------------+-----------------+---------------+----------------+\n",
      "|cod_usuario|estado             |qtd_total_compras|qtd_total_itens|valor_total_pago|\n",
      "+-----------+-------------------+-----------------+---------------+----------------+\n",
      "|2186       |Amapá              |7                |61             |51359.34        |\n",
      "|2981       |Bahia              |9                |70             |126282.4        |\n",
      "|1787       |Ceará              |8                |79             |121494.67       |\n",
      "|700        |Goiás              |9                |74             |142389.09       |\n",
      "|2811       |Maranhão           |13               |117            |184101.89       |\n",
      "|2340       |Mato Grosso        |9                |112            |165197.3        |\n",
      "|679        |Mato Grosso do Sul |6                |102            |152271.96       |\n",
      "|3090       |Minas Gerais       |9                |93             |95697.3         |\n",
      "|2843       |Paraná             |10               |114            |137228.01       |\n",
      "|464        |Paraíba            |6                |73             |73556.1         |\n",
      "|2646       |Pernambuco         |7                |84             |135556.7        |\n",
      "|2669       |Pernambuco         |7                |56             |37119.0         |\n",
      "|1974       |Piauí              |5                |77             |139997.47       |\n",
      "|2441       |Piauí              |5                |33             |40866.19        |\n",
      "|3403       |Rio Grande do Norte|10               |94             |136347.01       |\n",
      "|28         |Rio Grande do Sul  |9                |76             |29114.45        |\n",
      "|2551       |Santa Catarina     |9                |88             |187513.66       |\n",
      "|1074       |Santa Catarina     |9                |66             |159165.18       |\n",
      "|1756       |São Paulo          |8                |73             |134413.0        |\n",
      "|1752       |Tocantins          |8                |80             |97028.45        |\n",
      "+-----------+-------------------+-----------------+---------------+----------------+\n",
      "\n"
     ]
    }
   ],
   "source": [
    "q(\"\"\"\n",
    "SELECT \n",
    " cod_usuario\n",
    ",estado\n",
    ",qtd_total_compras\n",
    ",qtd_total_itens\n",
    ",valor_total_pago\n",
    "FROM (\n",
    "    SELECT\n",
    "     u.cod_usuario\n",
    "    ,u.estado\n",
    "    ,COUNT(*) AS qtd_total_compras\n",
    "    ,ROUND(SUM(v.quantidade),2) AS qtd_total_itens\n",
    "    ,ROUND(SUM(v.valor),2) AS valor_total_pago\n",
    "    ,RANK() OVER(PARTITION BY u.estado ORDER BY COUNT(*) desc) as ranking_por_compra_cliente\n",
    "    FROM\n",
    "    vendas AS v\n",
    "    INNER JOIN usuarios AS u ON u.cod_usuario = v.cod_usuario\n",
    "    GROUP BY\n",
    "     u.cod_usuario\n",
    "    ,u.estado\n",
    ") WHERE ranking_por_compra_cliente = 1\n",
    "ORDER BY\n",
    " estado\n",
    ",valor_total_pago DESC\n",
    "\n",
    "\"\"\")"
   ]
  },
  {
   "cell_type": "markdown",
   "metadata": {
    "id": "Rx53Cl5Xp6TV"
   },
   "source": [
    "3) Quais são os usuários que não fizeram nenhuma compra?"
   ]
  },
  {
   "cell_type": "code",
   "execution_count": 68,
   "metadata": {
    "id": "POtsi6dPq9-K"
   },
   "outputs": [
    {
     "name": "stdout",
     "output_type": "stream",
     "text": [
      "+-----------+-------------------+------------------+-----------------------+-------------------+\n",
      "|cod_usuario|data_cadastro      |faixa_etaria      |cidade                 |estado             |\n",
      "+-----------+-------------------+------------------+-----------------------+-------------------+\n",
      "|3499       |2019-12-17 00:00:00|Entre 10 a 15 anos|Jacuí                  |Minas Gerais       |\n",
      "|3504       |2021-06-23 00:00:00|Entre 16 a 21 anos|Bom Jesus do Galho     |Minas Gerais       |\n",
      "|3516       |2019-10-13 00:00:00|Entre 10 a 15 anos|Rio Verde              |Goiás              |\n",
      "|3556       |2020-08-04 00:00:00|Entre 62 a 70 anos|Confresa               |Mato Grosso        |\n",
      "|3560       |2018-09-04 00:00:00|Entre 16 a 21 anos|Maracaí                |São Paulo          |\n",
      "|3564       |2018-07-02 00:00:00|Entre 62 a 70 anos|Betim                  |Minas Gerais       |\n",
      "|3692       |2018-08-28 00:00:00|Mais de 70 anos   |Nipoã                  |São Paulo          |\n",
      "|3754       |2021-05-16 00:00:00|Entre 28 a 36 anos|Alcantil               |Paraíba            |\n",
      "|3764       |2020-09-10 00:00:00|Entre 37 a 49 anos|Itaipava do Grajaú     |Maranhão           |\n",
      "|3829       |2020-11-10 00:00:00|Entre 28 a 36 anos|Jaraguá                |Goiás              |\n",
      "|3837       |2018-08-18 00:00:00|Mais de 70 anos   |Campo Grande           |Mato Grosso do Sul |\n",
      "|3861       |2020-05-27 00:00:00|Mais de 70 anos   |Juti                   |Mato Grosso do Sul |\n",
      "|3879       |2018-12-15 00:00:00|Entre 62 a 70 anos|Piranga                |Minas Gerais       |\n",
      "|4020       |2019-12-17 00:00:00|Mais de 70 anos   |Araioses               |Maranhão           |\n",
      "|4251       |2018-03-16 00:00:00|Entre 10 a 15 anos|São Geraldo do Baixio  |Minas Gerais       |\n",
      "|4269       |2020-10-14 00:00:00|Entre 22 a 27 anos|General Carneiro       |Mato Grosso        |\n",
      "|4334       |2018-10-10 00:00:00|Entre 28 a 36 anos|Doutor Severiano       |Rio Grande do Norte|\n",
      "|4391       |2018-06-30 00:00:00|Entre 62 a 70 anos|São José da Lapa       |Minas Gerais       |\n",
      "|4431       |2020-02-16 00:00:00|Mais de 70 anos   |Cachoeiro de Itapemirim|Espírito Santo     |\n",
      "|4443       |2018-04-13 00:00:00|Entre 37 a 49 anos|São Miguel do Tocantins|Tocantins          |\n",
      "|4725       |2019-01-23 00:00:00|Entre 22 a 27 anos|Serra                  |Espírito Santo     |\n",
      "|4850       |2018-02-11 00:00:00|Entre 10 a 15 anos|Engenheiro Caldas      |Minas Gerais       |\n",
      "|4909       |2019-06-15 00:00:00|Entre 16 a 21 anos|Eldorado               |São Paulo          |\n",
      "|4995       |2019-06-23 00:00:00|Mais de 70 anos   |Nova Luzitânia         |São Paulo          |\n",
      "|5049       |2020-10-15 00:00:00|Entre 10 a 15 anos|Cabeceiras             |Goiás              |\n",
      "|5098       |2021-05-03 00:00:00|Entre 62 a 70 anos|Guaraci                |Paraná             |\n",
      "|5133       |2019-08-05 00:00:00|Entre 16 a 21 anos|Sebastianópolis do Sul |São Paulo          |\n",
      "|5229       |2019-11-22 00:00:00|Entre 10 a 15 anos|Cerqueira César        |São Paulo          |\n",
      "|5245       |2021-03-05 00:00:00|Entre 37 a 49 anos|Dona Francisca         |Rio Grande do Sul  |\n",
      "|5247       |2018-08-20 00:00:00|Entre 28 a 36 anos|Rolante                |Rio Grande do Sul  |\n",
      "+-----------+-------------------+------------------+-----------------------+-------------------+\n",
      "only showing top 30 rows\n",
      "\n"
     ]
    }
   ],
   "source": [
    "q(\"\"\"\n",
    "SELECT\n",
    " u.*\n",
    "FROM\n",
    "usuarios AS u  \n",
    "LEFT JOIN vendas AS v ON u.cod_usuario = v.cod_usuario\n",
    "WHERE \n",
    "u.cod_usuario IS NOT NULL /*Removendo linhas vazias que estão na tabela*/\n",
    "AND v.cod_usuario IS NULL\n",
    "ORDER BY\n",
    " u.cod_usuario\n",
    "\"\"\")"
   ]
  },
  {
   "cell_type": "markdown",
   "metadata": {
    "id": "JMfPmlvJq-vq"
   },
   "source": [
    "4) Qual é o ticket médio (média de valor gasto) e o número total de usuários que fizeram pelo menos uma compra por faixa etária?"
   ]
  },
  {
   "cell_type": "code",
   "execution_count": 78,
   "metadata": {
    "id": "2wmU9pLbrMg3"
   },
   "outputs": [
    {
     "name": "stdout",
     "output_type": "stream",
     "text": [
      "+------------------+------------+-----------+\n",
      "|faixa_etaria      |ticket_medio|qtd_usuario|\n",
      "+------------------+------------+-----------+\n",
      "|Entre 10 a 15 anos|8890.13     |7          |\n",
      "|Entre 16 a 21 anos|12725.95    |11         |\n",
      "|Entre 22 a 27 anos|12203.02    |10         |\n",
      "|Entre 28 a 36 anos|8233.04     |9          |\n",
      "|Entre 37 a 49 anos|16727.19    |6          |\n",
      "|Entre 50 a 61 anos|10849.48    |12         |\n",
      "|Entre 62 a 70 anos|10012.63    |7          |\n",
      "|Mais de 70 anos   |11303.1     |4          |\n",
      "+------------------+------------+-----------+\n",
      "\n"
     ]
    }
   ],
   "source": [
    "q(\"\"\"\n",
    "SELECT\n",
    " u.faixa_etaria\n",
    ",ROUND(AVG(v.valor),2) AS ticket_medio\n",
    ",COUNT(DISTINCT u.cod_usuario) AS qtd_usuario\n",
    "FROM\n",
    "vendas AS v  \n",
    "INNER JOIN usuarios AS u ON u.cod_usuario = v.cod_usuario\n",
    "GROUP BY\n",
    " u.faixa_etaria\n",
    "ORDER BY\n",
    " u.faixa_etaria\n",
    "\"\"\")"
   ]
  },
  {
   "cell_type": "code",
   "execution_count": 85,
   "metadata": {
    "id": "3zzx4TnTJ0ck"
   },
   "outputs": [],
   "source": [
    "spark.stop()"
   ]
  }
 ],
 "metadata": {
  "colab": {
   "collapsed_sections": [],
   "name": "Teste Engenharia de Dados v2_2 - modelo.ipynb",
   "provenance": []
  },
  "kernelspec": {
   "display_name": "Python 3 (ipykernel)",
   "language": "python",
   "name": "python3"
  },
  "language_info": {
   "codemirror_mode": {
    "name": "ipython",
    "version": 3
   },
   "file_extension": ".py",
   "mimetype": "text/x-python",
   "name": "python",
   "nbconvert_exporter": "python",
   "pygments_lexer": "ipython3",
   "version": "3.10.9"
  }
 },
 "nbformat": 4,
 "nbformat_minor": 1
}
