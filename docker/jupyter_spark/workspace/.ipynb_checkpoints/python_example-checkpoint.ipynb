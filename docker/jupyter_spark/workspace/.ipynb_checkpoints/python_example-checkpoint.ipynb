{
 "cells": [
  {
   "cell_type": "markdown",
   "metadata": {
    "id": "LVSy2BqsaSkj"
   },
   "source": [
    "# Setup Geral\n",
    "\n",
    "Se estiver executando este exercício no Google Colab, execute as próximas duas células. \n",
    "\n",
    "Caso esteja executando localmente, não é necessário executar mas certifique-se de que o **pyspark** está instalado e configurado em sua máquina."
   ]
  },
  {
   "cell_type": "code",
   "execution_count": null,
   "metadata": {
    "id": "NHPXuknHZ5Az"
   },
   "outputs": [],
   "source": [
    "%%bash\n",
    "\n",
    "# Instal Java\n",
    "apt-get update && apt-get install openjdk-8-jdk-headless -qq > /dev/null\n",
    "\n",
    "# Install PySpark\n",
    "pip install -q pyspark"
   ]
  },
  {
   "cell_type": "code",
   "execution_count": null,
   "metadata": {
    "id": "4dY12q0raXtc"
   },
   "outputs": [],
   "source": [
    "import os\n",
    "os.environ['JAVA_HOME'] = '/usr/lib/jvm/java-8-openjdk-amd64'\n",
    "\n",
    "from pyspark.sql import SparkSession\n",
    "\n",
    "spark = SparkSession.builder.master(\"local[*]\").getOrCreate()"
   ]
  },
  {
   "cell_type": "markdown",
   "metadata": {
    "id": "YUB8S5fKciHv"
   },
   "source": [
    "# Python"
   ]
  },
  {
   "cell_type": "code",
   "execution_count": 7,
   "metadata": {
    "id": "2F8f5Z1scgUP"
   },
   "outputs": [],
   "source": [
    "# SETUP\n",
    "nomes_alunos = [\n",
    "    ('Maria', 1),\n",
    "    ('João', 2),\n",
    "    ('Pedro', 3),\n",
    "    ('Gabriella', 4),\n",
    "    ('Giovana', 5),\n",
    "    ('Arthur', 6)\n",
    "]\n",
    "\n",
    "notas_alunos = {\n",
    "    1: 9.5,\n",
    "    2: 5.1,\n",
    "    3: 8.7,\n",
    "    4: 7.1,\n",
    "    5: 4.8,\n",
    "    6: 6.3\n",
    "}"
   ]
  },
  {
   "cell_type": "markdown",
   "metadata": {
    "id": "ApIQ4JqjcsnC"
   },
   "source": [
    "Implemente uma função que recebe uma lista de nomes de alunos, um dicionário de notas dos mesmo, sendo que essas estruturas se relacionam por um ID.\n",
    "\n",
    "A função deve retornar em ordem alfabética, o nome dos alunos que obtiveram notas maior ou igual de uma nota de corte informada."
   ]
  },
  {
   "cell_type": "code",
   "execution_count": 8,
   "metadata": {
    "id": "ISnDoCWucpHC"
   },
   "outputs": [
    {
     "data": {
      "text/plain": [
       "['Arthur', 'Gabriella', 'Maria', 'Pedro']"
      ]
     },
     "execution_count": 8,
     "metadata": {},
     "output_type": "execute_result"
    }
   ],
   "source": [
    "def filtra_alunos_acima_corte(alunos, notas, nota_corte):\n",
    "\n",
    "    import logging\n",
    "\n",
    "    logger = logging.getLogger()\n",
    "    logger.setLevel(logging.INFO)\n",
    "\n",
    "    \n",
    "    try:\n",
    "        if not __valida_variaveis_alunos_acima_corte(alunos, notas, nota_corte):\n",
    "            return []\n",
    "\n",
    "    except NameError:\n",
    "        logging.warning(\"Adicionei uma checagem das variáveis ao teste, se for válido no teste, por favor executar a célula abaixo para sua criação\")\n",
    "\n",
    "                        \n",
    "    dict_notas_aprovadas = dict(filter(lambda aluno: aluno[1] >= nota_corte, notas_alunos.items()))\n",
    "\n",
    "    if not dict_notas_aprovadas:\n",
    "        logging.warning(\"Nao temos alunos aprovados.\")\n",
    "        return []\n",
    "\n",
    "    \n",
    "    id_notas_aprovadas = list(dict_notas_aprovadas.keys())\n",
    "    alunos_aprovados = list(filter(lambda x: x[1] in id_notas_aprovadas, alunos))\n",
    "\n",
    "    if len(alunos_aprovados) < len(id_notas_aprovadas):\n",
    "        logging.warning(\"Algum id de aluno aprovado não foi encontrado.\")\n",
    "    \n",
    "    nome_alunos_aprovados = list(map(lambda x: x[0], alunos_aprovados))\n",
    "    \n",
    "    nome_alunos_aprovados.sort()\n",
    "    \n",
    "    return nome_alunos_aprovados\n",
    "\n",
    "    \n",
    "filtra_alunos_acima_corte(nomes_alunos, notas_alunos, 6)"
   ]
  },
  {
   "cell_type": "code",
   "execution_count": 3,
   "metadata": {},
   "outputs": [],
   "source": [
    "def __valida_variaveis_alunos_acima_corte(alunos, notas, nota_corte):\n",
    "\n",
    "    import logging\n",
    "\n",
    "    logger = logging.getLogger()\n",
    "    logger.setLevel(logging.INFO)\n",
    "    \n",
    "    \n",
    "    if not isinstance(alunos, (list)):\n",
    "        logging.error(\"Não recebemos uma lista de alunos.\")\n",
    "        return False\n",
    "\n",
    "\n",
    "    elif not all(map(lambda x: \n",
    "                     isinstance(x, tuple) and \n",
    "                     len(x) == 2 and \n",
    "                     isinstance(x[0], str) and\n",
    "                     isinstance(x[1], int), alunos)\n",
    "                ):\n",
    "        logging.error(\"O formato dos alunos enviados não está no padrão esperado. O padrão correto é ('nome_aluno',10)\")\n",
    "        return False\n",
    "\n",
    "\n",
    "    if not isinstance(notas, (dict)):\n",
    "        logging.error(\"Não recebemos um dicionário de notas.\")\n",
    "        return False\n",
    "\n",
    "\n",
    "    if not all(map(lambda x: isinstance(x, (int)), notas.keys())) \\\n",
    "    or not all(map(lambda x: isinstance(x, (int, float)), notas.values())):\n",
    "        logging.error(\"As notas enviadas não estão no padrão esperado. O padrão correto é {1:10} sendo o id do aluno e sua nota, respectivamente.\")\n",
    "        return False\n",
    "\n",
    "    \n",
    "    if not isinstance(nota_corte, (int, float)):\n",
    "        logging.error(\"Nota de corte inválida. É esperado um valor numérico (inteiro ou decimal).\")\n",
    "        return False\n",
    "    \n",
    "    return True\n"
   ]
  }
 ],
 "metadata": {
  "colab": {
   "collapsed_sections": [],
   "name": "Teste Engenharia de Dados v2_2 - modelo.ipynb",
   "provenance": []
  },
  "kernelspec": {
   "display_name": "Python 3 (ipykernel)",
   "language": "python",
   "name": "python3"
  },
  "language_info": {
   "codemirror_mode": {
    "name": "ipython",
    "version": 3
   },
   "file_extension": ".py",
   "mimetype": "text/x-python",
   "name": "python",
   "nbconvert_exporter": "python",
   "pygments_lexer": "ipython3",
   "version": "3.10.9"
  }
 },
 "nbformat": 4,
 "nbformat_minor": 1
}
