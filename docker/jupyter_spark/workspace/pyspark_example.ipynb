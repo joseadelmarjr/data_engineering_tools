{
 "cells": [
  {
   "cell_type": "markdown",
   "metadata": {
    "id": "LVSy2BqsaSkj"
   },
   "source": [
    "# Setup Geral\n",
    "\n",
    "Se estiver executando este exercício no Google Colab, execute as próximas duas células. \n",
    "\n",
    "Caso esteja executando localmente, não é necessário executar mas certifique-se de que o **pyspark** está instalado e configurado em sua máquina."
   ]
  },
  {
   "cell_type": "code",
   "execution_count": null,
   "metadata": {
    "id": "NHPXuknHZ5Az"
   },
   "outputs": [],
   "source": [
    "%%bash\n",
    "\n",
    "# Instal Java\n",
    "apt-get update && apt-get install openjdk-8-jdk-headless -qq > /dev/null\n",
    "\n",
    "# Install PySpark\n",
    "pip install -q pyspark"
   ]
  },
  {
   "cell_type": "code",
   "execution_count": null,
   "metadata": {
    "id": "4dY12q0raXtc"
   },
   "outputs": [],
   "source": [
    "import os\n",
    "os.environ['JAVA_HOME'] = '/usr/lib/jvm/java-8-openjdk-amd64'\n",
    "\n",
    "from pyspark.sql import SparkSession\n",
    "\n",
    "spark = SparkSession.builder.master(\"local[*]\").getOrCreate()"
   ]
  },
  {
   "cell_type": "markdown",
   "metadata": {
    "id": "YsxnKyHTr9ZQ"
   },
   "source": [
    "# PySpark"
   ]
  },
  {
   "cell_type": "markdown",
   "metadata": {
    "id": "IHTFrsFRKENk"
   },
   "source": [
    "**setup**:"
   ]
  },
  {
   "cell_type": "code",
   "execution_count": 87,
   "metadata": {
    "id": "1iMZB37mJ74k"
   },
   "outputs": [],
   "source": [
    "# Setup Spark Session\n",
    "from pyspark.sql import SparkSession\n",
    "spark = SparkSession.builder.appName(\"AtividadeSQL\").getOrCreate()"
   ]
  },
  {
   "cell_type": "code",
   "execution_count": 267,
   "metadata": {
    "id": "5wjdDd3tJ74l"
   },
   "outputs": [],
   "source": [
    "def cria_tabela(path, nome_tabela):\n",
    "    df = spark.read.csv(path, inferSchema=True, header=True)\n",
    "    df.createOrReplaceTempView(nome_tabela)\n",
    "    return df\n",
    "\n",
    "usuarios = cria_tabela(\"bases_teste/usuarios.csv\", \"usuarios\")\n",
    "produtos = cria_tabela(\"bases_teste/produtos.csv\", \"produtos\")\n",
    "vendas = cria_tabela(\"bases_teste/vendas.csv\", \"vendas\")"
   ]
  },
  {
   "cell_type": "markdown",
   "metadata": {
    "id": "DHCtQfrvKpWz"
   },
   "source": [
    "Responda às perguntas a seguir utilizando **Spark DATAFRAMES**.\n",
    "\n",
    "1) Qual foi o total de compras realizadas, o total de itens comprados e a receita total obtida em todo o período analisado?"
   ]
  },
  {
   "cell_type": "code",
   "execution_count": 171,
   "metadata": {
    "id": "0CcQqjM3r-mq"
   },
   "outputs": [
    {
     "name": "stdout",
     "output_type": "stream",
     "text": [
      "+-------------+-----------+-------------+\n",
      "|total_compras|total_itens|receita_total|\n",
      "+-------------+-----------+-------------+\n",
      "|        20000|     209149|    215849002|\n",
      "+-------------+-----------+-------------+\n",
      "\n"
     ]
    }
   ],
   "source": [
    "from pyspark.sql.functions import format_string\n",
    "\n",
    "df_vendas = spark.read.table(\"vendas\")\n",
    "\n",
    "df_resposta = df_vendas.agg(\n",
    "    count(\"*\").alias(\"total_compras\"),\n",
    "    sum(\"quantidade\").alias(\"total_itens\"),\n",
    "    sum(\"valor\").alias(\"receita_total\"),\n",
    ")\n",
    "\n",
    "df_resposta = df_resposta.withColumn(\n",
    "    \"receita_total\", format_string(\"%.0f\", df_resposta[\"receita_total\"])\n",
    ")\n",
    "\n",
    "\n",
    "df_resposta.show()\n"
   ]
  },
  {
   "cell_type": "markdown",
   "metadata": {
    "id": "uVV0rIT8KzZ2"
   },
   "source": [
    "2) Quais são os 3 produtos mais comprados dos estados da região Sul e Sudeste, a quantidade de itens comprados, o valor total pago e a média de preço paga?"
   ]
  },
  {
   "cell_type": "code",
   "execution_count": 269,
   "metadata": {
    "id": "JkX1ByRdLa5V"
   },
   "outputs": [
    {
     "name": "stdout",
     "output_type": "stream",
     "text": [
      "+-----------+--------------------------------+-----------------+---------+-----------+----+-----------+\n",
      "|cod_produto|nome_produto                    |estado           |qtd_itens|valor_total|rank|media_preco|\n",
      "+-----------+--------------------------------+-----------------+---------+-----------+----+-----------+\n",
      "|15         |Alcool em Gel 70% Johnson       |Minas Gerais     |165      |823.35     |1   |4.99       |\n",
      "|5          |Escrivaninha em L               |Minas Gerais     |78       |34,086.00  |2   |437.00     |\n",
      "|1          |Notebook Asus Intel Core i7     |Minas Gerais     |71       |325,953.90 |3   |4,590.90   |\n",
      "|11         |Jogo Mortal Kombat 11 PS4       |Paraná           |35       |1,746.50   |1   |49.90      |\n",
      "|10         |Cadeira Gamer Xpress            |Paraná           |27       |18,897.30  |2   |699.90     |\n",
      "|19         |SmartTV Samsung 4K 55 polegadas |Paraná           |25       |62,497.50  |3   |2,499.90   |\n",
      "|15         |Alcool em Gel 70% Johnson       |Rio Grande do Sul|43       |214.57     |1   |4.99       |\n",
      "|11         |Jogo Mortal Kombat 11 PS4       |Rio Grande do Sul|41       |2,045.90   |2   |49.90      |\n",
      "|7          |Ar-condicionado 9500 BTUs LG    |Rio Grande do Sul|33       |42,916.17  |3   |1,300.49   |\n",
      "|17         |Monitor LG 19 pol curvado       |Santa Catarina   |53       |30,957.30  |1   |584.10     |\n",
      "|1          |Notebook Asus Intel Core i7     |Santa Catarina   |39       |179,045.10 |2   |4,590.90   |\n",
      "|13         |Kit 3 barras de chocolate Alpino|Santa Catarina   |35       |346.50     |3   |9.90       |\n",
      "|15         |Alcool em Gel 70% Johnson       |São Paulo        |62       |309.38     |1   |4.99       |\n",
      "|6          |Sofa 3 lugares                  |São Paulo        |49       |44,095.10  |2   |899.90     |\n",
      "|13         |Kit 3 barras de chocolate Alpino|São Paulo        |41       |405.90     |3   |9.90       |\n",
      "+-----------+--------------------------------+-----------------+---------+-----------+----+-----------+\n",
      "\n"
     ]
    }
   ],
   "source": [
    "from pyspark.sql.functions import col, count, dense_rank, desc, format_number, sum\n",
    "from pyspark.sql.window import Window\n",
    "\n",
    "df_usuarios = spark.read.table(\"usuarios\")\n",
    "df_vendas = spark.read.table(\"vendas\")\n",
    "df_produtos = spark.read.table(\"produtos\")\n",
    "\n",
    "estados_considerados = [\n",
    "    (\"São Paulo\",),\n",
    "    (\"Rio de Janeiro\",),\n",
    "    (\"Minas Gerais\",),\n",
    "    (\"Espírito Santo\",),\n",
    "    (\"Paraná\",),\n",
    "    (\"Santa Catarina\",),\n",
    "    (\"Rio Grande do Sul\",),\n",
    "]\n",
    "\n",
    "\n",
    "df_produtos = df_produtos[\"cod_produto\", \"nome_produto\"]\n",
    "\n",
    "df_estados_considerados = spark.createDataFrame(estados_considerados, [\"estado\"])\n",
    "\n",
    "\n",
    "df_usuarios_nos_estados = df_usuarios.join(\n",
    "    df_estados_considerados,\n",
    "    df_usuarios.estado == df_estados_considerados.estado,\n",
    "    \"inner\",\n",
    ")\n",
    "\n",
    "\n",
    "df_compras_por_usuario = df_usuarios_nos_estados.join(\n",
    "    df_vendas, df_vendas.cod_usuario == df_usuarios_nos_estados.cod_usuario, \"inner\"\n",
    ")\n",
    "\n",
    "\n",
    "df_compras_por_usuario = df_compras_por_usuario[\n",
    "    \"usuarios.cod_usuario\",\n",
    "    \"usuarios.estado\",\n",
    "    \"cod_produto\",\n",
    "    \"quantidade\",\n",
    "    \"valor\",\n",
    "]\n",
    "\n",
    "\n",
    "df_agrupado_por_produto_estado = df_compras_por_usuario.groupBy(\n",
    "    \"cod_produto\", \"estado\"\n",
    ").agg(sum(\"quantidade\").alias(\"qtd_itens\"), sum(\"valor\").alias(\"valor_total\"))\n",
    "\n",
    "\n",
    "window_spec = Window.partitionBy(\"estado\").orderBy(desc(\"qtd_itens\"))\n",
    "df_rank_por_produto_estado = df_agrupado_por_produto_estado.select(\n",
    "    \"cod_produto\",\n",
    "    \"estado\",\n",
    "    \"qtd_itens\",\n",
    "    \"valor_total\",\n",
    "    dense_rank().over(window_spec).alias(\"rank\"),\n",
    ")\n",
    "\n",
    "\n",
    "df_rank_por_produto_estado = df_rank_por_produto_estado.filter(col(\"rank\") <= 3)\n",
    "\n",
    "df_rank_por_produto_estado = df_rank_por_produto_estado.withColumn(\n",
    "    \"media_preco\", col(\"valor_total\") / col(\"qtd_itens\")\n",
    ")\n",
    "\n",
    "\n",
    "df_resposta = df_rank_por_produto_estado.join(\n",
    "    df_produtos,\n",
    "    df_produtos.cod_produto == df_rank_por_produto_estado.cod_produto,\n",
    "    \"inner\",\n",
    ")\n",
    "\n",
    "df_resposta = df_resposta[\n",
    "    \"vendas.cod_produto\",\n",
    "    \"nome_produto\",\n",
    "    \"estado\",\n",
    "    \"qtd_itens\",\n",
    "    \"valor_total\",\n",
    "    \"rank\",\n",
    "    \"media_preco\",\n",
    "]\n",
    "\n",
    "df_resposta = df_resposta.withColumn(\"valor_total\", format_number(\"valor_total\", 2))\n",
    "df_resposta = df_resposta.withColumn(\"media_preco\", format_number(\"media_preco\", 2))\n",
    "\n",
    "df_resposta.show(truncate=False, n=100)\n"
   ]
  },
  {
   "cell_type": "markdown",
   "metadata": {
    "id": "0CaldadHLbgm"
   },
   "source": [
    "3) Para cada produto, quantos usuários fizeram pelo menos uma compra desse produto e qual é o valor mínimo e máximo pago por eles? "
   ]
  },
  {
   "cell_type": "code",
   "execution_count": 270,
   "metadata": {
    "id": "qgwOymWOLqAB"
   },
   "outputs": [
    {
     "name": "stdout",
     "output_type": "stream",
     "text": [
      "+-----------+-----------------------------------+------------+---------------------+---------------------+\n",
      "|cod_produto|nome_produto                       |qtd_usuarios|valor_unitario_minimo|valor_unitario_maximo|\n",
      "+-----------+-----------------------------------+------------+---------------------+---------------------+\n",
      "|18         |Lenço umedecido Turma da Monica    |880         |7.90                 |7.90                 |\n",
      "|7          |Ar-condicionado 9500 BTUs LG       |863         |1,300.49             |1,300.49             |\n",
      "|5          |Escrivaninha em L                  |860         |437.00               |437.00               |\n",
      "|19         |SmartTV Samsung 4K 55 polegadas    |856         |2,499.90             |2,499.90             |\n",
      "|9          |Microoondas 35L                    |847         |389.10               |389.10               |\n",
      "|11         |Jogo Mortal Kombat 11 PS4          |847         |49.90                |49.90                |\n",
      "|6          |Sofa 3 lugares                     |845         |899.90               |899.90               |\n",
      "|17         |Monitor LG 19 pol curvado          |842         |584.10               |584.10               |\n",
      "|21         |SPA Intel 700 L                    |839         |5,999.10             |5,999.10             |\n",
      "|10         |Cadeira Gamer Xpress               |838         |699.90               |699.90               |\n",
      "|15         |Alcool em Gel 70% Johnson          |837         |4.99                 |4.99                 |\n",
      "|4          |Mochila Targus                     |833         |58.90                |58.90                |\n",
      "|8          |Cafeteira Nespresso                |832         |219.57               |219.57               |\n",
      "|16         |Biscoito Chocolicia Chocolate      |832         |5.00                 |5.00                 |\n",
      "|1          |Notebook Asus Intel Core i7        |825         |4,590.90             |4,590.90             |\n",
      "|3          |Smartphone Samsung                 |823         |2,049.50             |2,049.50             |\n",
      "|20         |Aparelho de Barbear OneBlade Philco|818         |129.90               |129.90               |\n",
      "|14         |Blusa Lacoste                      |812         |138.99               |138.99               |\n",
      "|13         |Kit 3 barras de chocolate Alpino   |809         |9.90                 |9.90                 |\n",
      "|12         |Umidificador de Ar Cadence         |788         |77.50                |77.50                |\n",
      "|2          |Bicicleta Caloi Aro 29             |775         |1,345.78             |1,345.78             |\n",
      "+-----------+-----------------------------------+------------+---------------------+---------------------+\n",
      "\n"
     ]
    }
   ],
   "source": [
    "from pyspark.sql.functions import col, countDistinct, desc, format_number, min, max\n",
    "\n",
    "df_vendas = spark.read.table(\"vendas\")\n",
    "df_produtos = spark.read.table(\"produtos\")\n",
    "\n",
    "\n",
    "df_vendas = df_vendas[\"cod_produto\", \"cod_usuario\", \"quantidade\", \"valor\"]\n",
    "df_vendas = df_vendas.withColumn(\"valor_unitario\", col(\"valor\") / col(\"quantidade\"))\n",
    "\n",
    "df_clientes_por_produto = df_vendas.groupBy(\"cod_produto\").agg(\n",
    "    min(\"valor_unitario\").alias(\"valor_unitario_minimo\"),\n",
    "    max(\"valor_unitario\").alias(\"valor_unitario_maximo\"),\n",
    "    countDistinct(\"cod_usuario\").alias(\"qtd_usuarios\"),\n",
    ")\n",
    "\n",
    "df_resposta = df_produtos.join(\n",
    "    df_clientes_por_produto,\n",
    "    df_produtos.cod_produto == df_clientes_por_produto.cod_produto,\n",
    "    \"left\",\n",
    ")\n",
    "\n",
    "df_resposta = df_resposta.na.fill(\n",
    "    0, subset=[\"qtd_usuarios\", \"valor_unitario_minimo\", \"valor_unitario_maximo\"]\n",
    ")\n",
    "\n",
    "df_resposta = df_resposta.withColumn(\n",
    "    \"valor_unitario_minimo\", format_number(\"valor_unitario_minimo\", 2)\n",
    ")\n",
    "df_resposta = df_resposta.withColumn(\n",
    "    \"valor_unitario_maximo\", format_number(\"valor_unitario_maximo\", 2)\n",
    ")\n",
    "\n",
    "df_resposta = df_resposta[\n",
    "    \"produtos.cod_produto\",\n",
    "    \"nome_produto\",\n",
    "    \"qtd_usuarios\",\n",
    "    \"valor_unitario_minimo\",\n",
    "    \"valor_unitario_maximo\",\n",
    "]\n",
    "\n",
    "\n",
    "df_resposta = df_resposta.orderBy(desc(\"qtd_usuarios\"))\n",
    "df_resposta.show(truncate=False, n=100)\n"
   ]
  },
  {
   "cell_type": "markdown",
   "metadata": {
    "id": "QUM8hfarLqy9"
   },
   "source": [
    "4) Aplique um desconto de 10% em todas as vendas dos usuários que fizeram pelo menos 3 compras de produtos na mesma categoria, a partir da 4ª compra realizada. Exiba apenas os usuários que terão o desconto aplicado, mantendo todas as compras, o valor original e o valor com o desconto aplicado."
   ]
  },
  {
   "cell_type": "code",
   "execution_count": 357,
   "metadata": {
    "id": "YEYCoeHlMGHl"
   },
   "outputs": [
    {
     "name": "stdout",
     "output_type": "stream",
     "text": [
      "+-----------+-----------+--------------------+--------------------+-----------+------------+---------+------------------+\n",
      "|cod_usuario|cod_produto|   categoria_produto|        nome_produto|data_compra|ordem_compra|    valor|valor_com_desconto|\n",
      "+-----------+-----------+--------------------+--------------------+-----------+------------+---------+------------------+\n",
      "|          3|          1|          Tecnologia|Notebook Asus Int...| 2021-07-20|           4|36,727.20|         33,054.48|\n",
      "|          3|          3|          Tecnologia|  Smartphone Samsung| 2021-07-18|           3|20,495.00|         20,495.00|\n",
      "|          3|          3|          Tecnologia|  Smartphone Samsung| 2021-04-14|           2|18,445.50|         18,445.50|\n",
      "|          3|          1|          Tecnologia|Notebook Asus Int...| 2021-03-24|           1|18,363.60|         18,363.60|\n",
      "|          6|          8|    Eletrodomesticos| Cafeteira Nespresso| 2021-03-23|           4|   439.14|            395.23|\n",
      "|          6|          9|    Eletrodomesticos|     Microoondas 35L| 2021-01-23|           3| 7,782.00|          7,782.00|\n",
      "|          6|          9|    Eletrodomesticos|     Microoondas 35L| 2020-10-22|           2| 4,280.10|          4,280.10|\n",
      "|          6|          8|    Eletrodomesticos| Cafeteira Nespresso| 2020-05-10|           1| 1,097.85|          1,097.85|\n",
      "|         16|         17|          Tecnologia|Monitor LG 19 pol...| 2021-05-23|           5| 4,672.80|          4,205.52|\n",
      "|         16|          1|          Tecnologia|Notebook Asus Int...| 2021-02-16|           4|41,318.10|         37,186.29|\n",
      "|         16|          3|          Tecnologia|  Smartphone Samsung| 2021-01-13|           3|26,643.50|         26,643.50|\n",
      "|         16|          1|          Tecnologia|Notebook Asus Int...| 2020-12-11|           2|68,863.50|         68,863.50|\n",
      "|         16|          1|          Tecnologia|Notebook Asus Int...| 2020-12-06|           1|32,136.30|         32,136.30|\n",
      "|         17|         18| Produtos de limpeza|Lenço umedecido T...| 2021-07-30|           5|   118.50|            106.65|\n",
      "|         17|         18| Produtos de limpeza|Lenço umedecido T...| 2021-07-21|           4|    94.80|             85.32|\n",
      "|         17|         18| Produtos de limpeza|Lenço umedecido T...| 2021-06-21|           3|    79.00|             79.00|\n",
      "|         17|         18| Produtos de limpeza|Lenço umedecido T...| 2021-06-18|           2|   126.40|            126.40|\n",
      "|         17|         15| Produtos de limpeza|Alcool em Gel 70%...| 2021-05-22|           1|    89.82|             89.82|\n",
      "|         23|          7|    Casa e bem-estar|Ar-condicionado 9...| 2020-07-08|           4|24,709.31|         22,238.38|\n",
      "|         23|         12|    Casa e bem-estar|Umidificador de A...| 2019-12-05|           3| 1,317.50|          1,317.50|\n",
      "|         23|         12|    Casa e bem-estar|Umidificador de A...| 2019-10-07|           2|   465.00|            465.00|\n",
      "|         23|         12|    Casa e bem-estar|Umidificador de A...| 2019-09-19|           1|   697.50|            697.50|\n",
      "|         34|          6|    Casa e bem-estar|      Sofa 3 lugares| 2021-07-28|           4| 2,699.70|          2,429.73|\n",
      "|         34|          7|    Casa e bem-estar|Ar-condicionado 9...| 2021-06-05|           3|19,507.35|         19,507.35|\n",
      "|         34|          6|    Casa e bem-estar|      Sofa 3 lugares| 2021-06-01|           2| 8,999.00|          8,999.00|\n",
      "|         34|         12|    Casa e bem-estar|Umidificador de A...| 2021-01-03|           1|   465.00|            465.00|\n",
      "|         37|          6|    Casa e bem-estar|      Sofa 3 lugares| 2021-07-10|           4|   899.90|            809.91|\n",
      "|         37|          7|    Casa e bem-estar|Ar-condicionado 9...| 2020-12-14|           3|15,605.88|         15,605.88|\n",
      "|         37|         12|    Casa e bem-estar|Umidificador de A...| 2020-10-03|           2|   155.00|            155.00|\n",
      "|         37|         12|    Casa e bem-estar|Umidificador de A...| 2020-09-25|           1| 1,007.50|          1,007.50|\n",
      "|         39|          1|          Tecnologia|Notebook Asus Int...| 2020-11-17|           4|50,499.90|         45,449.91|\n",
      "|         39|          1|          Tecnologia|Notebook Asus Int...| 2020-09-25|           3|55,090.80|         55,090.80|\n",
      "|         39|          1|          Tecnologia|Notebook Asus Int...| 2019-12-23|           2|18,363.60|         18,363.60|\n",
      "|         39|         17|          Tecnologia|Monitor LG 19 pol...| 2019-10-22|           1| 5,841.00|          5,841.00|\n",
      "|         41|         15| Produtos de limpeza|Alcool em Gel 70%...| 2020-08-30|           4|    39.92|             35.93|\n",
      "|         41|         18| Produtos de limpeza|Lenço umedecido T...| 2020-05-27|           3|    79.00|             79.00|\n",
      "|         41|         15| Produtos de limpeza|Alcool em Gel 70%...| 2020-02-11|           2|    54.89|             54.89|\n",
      "|         41|         18| Produtos de limpeza|Lenço umedecido T...| 2020-01-23|           1|    86.90|             86.90|\n",
      "|         87|          7|    Casa e bem-estar|Ar-condicionado 9...| 2021-07-27|           4|19,507.35|         17,556.61|\n",
      "|         87|          7|    Casa e bem-estar|Ar-condicionado 9...| 2021-06-28|           3|14,305.39|         14,305.39|\n",
      "|         87|         12|    Casa e bem-estar|Umidificador de A...| 2020-11-28|           2|   310.00|            310.00|\n",
      "|         87|          7|    Casa e bem-estar|Ar-condicionado 9...| 2020-11-10|           1| 5,201.96|          5,201.96|\n",
      "|        101|         18| Produtos de limpeza|Lenço umedecido T...| 2021-06-11|           4|     7.90|              7.11|\n",
      "|        101|         15| Produtos de limpeza|Alcool em Gel 70%...| 2021-03-26|           3|    39.92|             39.92|\n",
      "|        101|         18| Produtos de limpeza|Lenço umedecido T...| 2021-02-22|           2|   142.20|            142.20|\n",
      "|        101|         18| Produtos de limpeza|Lenço umedecido T...| 2021-01-12|           1|    47.40|             47.40|\n",
      "|        106|          5|Material de escri...|   Escrivaninha em L| 2020-10-16|           4| 6,555.00|          5,899.50|\n",
      "|        106|          5|Material de escri...|   Escrivaninha em L| 2019-12-11|           3| 3,059.00|          3,059.00|\n",
      "|        106|         10|Material de escri...|Cadeira Gamer Xpress| 2019-06-02|           2|12,598.20|         12,598.20|\n",
      "|        106|         10|Material de escri...|Cadeira Gamer Xpress| 2019-04-05|           1| 5,599.20|          5,599.20|\n",
      "+-----------+-----------+--------------------+--------------------+-----------+------------+---------+------------------+\n",
      "only showing top 50 rows\n",
      "\n"
     ]
    }
   ],
   "source": [
    "from pyspark.sql.functions import asc, col, date_format, dense_rank, desc, format_number, when\n",
    "\n",
    "from pyspark.sql.window import Window\n",
    "\n",
    "df_vendas = spark.read.table(\"vendas\")\n",
    "df_produtos = spark.read.table(\"produtos\")\n",
    "\n",
    "df_vendas_por_categoria = df_vendas.join(\n",
    "    df_produtos, df_vendas.cod_produto == df_produtos.cod_produto, \"inner\"\n",
    ")\n",
    "\n",
    "df_vendas_por_categoria = df_vendas_por_categoria[\n",
    "    \"cod_usuario\",\n",
    "    \"produtos.cod_produto\",\n",
    "    \"nome_produto\",\n",
    "    \"categoria_produto\",\n",
    "    \"data_compra\",\n",
    "    \"quantidade\",\n",
    "    \"valor\",\n",
    "]\n",
    "\n",
    "window_spec = Window.partitionBy(\"cod_usuario\", \"categoria_produto\").orderBy(\n",
    "    \"data_compra\"\n",
    ")\n",
    "\n",
    "df_vendas_por_categoria = df_vendas_por_categoria.select(\n",
    "    \"cod_usuario\",\n",
    "    \"cod_produto\",\n",
    "    \"nome_produto\",\n",
    "    \"categoria_produto\",\n",
    "    \"data_compra\",\n",
    "    \"quantidade\",\n",
    "    \"valor\",\n",
    "    dense_rank().over(window_spec).alias(\"ordem_compra\"),\n",
    ")\n",
    "\n",
    "\n",
    "df_vendas_por_categoria = df_vendas_por_categoria.withColumn(\n",
    "    \"valor_com_desconto\",\n",
    "    when(df_vendas_por_categoria.ordem_compra > 3, col(\"valor\") * 0.9).otherwise(\n",
    "        col(\"valor\")\n",
    "    ),\n",
    ")\n",
    "\n",
    "\n",
    "df_vendas_por_categoria = df_vendas_por_categoria.withColumn(\n",
    "    \"valor\", format_number(\"valor\", 2)\n",
    ")\n",
    "\n",
    "df_vendas_por_categoria = df_vendas_por_categoria.withColumn(\n",
    "    \"valor_com_desconto\", format_number(\"valor_com_desconto\", 2)\n",
    ")\n",
    "\n",
    "\n",
    "df_usuarios_a_exibir = df_vendas_por_categoria[[\"cod_usuario\", \"categoria_produto\"]].filter(col(\"ordem_compra\") > 3).dropDuplicates()\n",
    "\n",
    "df_usuarios_a_exibir = df_usuarios_a_exibir.withColumnRenamed(\"cod_usuario\", \"cod_usuario_a_exibir\")\n",
    "df_usuarios_a_exibir = df_usuarios_a_exibir.withColumnRenamed(\"categoria_produto\", \"categoria_produto_a_exibir\")\n",
    "\n",
    "\n",
    "df_resposta = df_vendas_por_categoria.join(df_usuarios_a_exibir\n",
    "                                           , (df_vendas_por_categoria.cod_usuario == df_usuarios_a_exibir.cod_usuario_a_exibir) &\n",
    "                                           (df_vendas_por_categoria.categoria_produto == df_usuarios_a_exibir.categoria_produto_a_exibir) \n",
    "                                           , \"inner\")\n",
    "\n",
    "\n",
    "df_resposta = df_resposta[\"cod_usuario\"\n",
    "                        , \"produtos.cod_produto\"\n",
    "                        , \"produtos.categoria_produto\"\n",
    "                        , \"produtos.nome_produto\"\n",
    "                        , \"data_compra\"\n",
    "                        , \"ordem_compra\"\n",
    "                        , \"valor\"\n",
    "                        , \"valor_com_desconto\"\n",
    "                        ,]\n",
    "\n",
    "df_resposta = df_resposta.withColumn(\"data_compra\", date_format(\"data_compra\", \"yyyy-MM-dd\"))\n",
    "\n",
    "df_resposta = df_resposta.orderBy(\n",
    "     asc(\"cod_usuario\"), asc(\"categoria_produto\"), desc(\"ordem_compra\")\n",
    ")\n",
    "\n",
    "\n",
    "df_resposta.show( n= 50)"
   ]
  }
 ],
 "metadata": {
  "colab": {
   "collapsed_sections": [],
   "name": "Teste Engenharia de Dados v2_2 - modelo.ipynb",
   "provenance": []
  },
  "kernelspec": {
   "display_name": "Python 3 (ipykernel)",
   "language": "python",
   "name": "python3"
  },
  "language_info": {
   "codemirror_mode": {
    "name": "ipython",
    "version": 3
   },
   "file_extension": ".py",
   "mimetype": "text/x-python",
   "name": "python",
   "nbconvert_exporter": "python",
   "pygments_lexer": "ipython3",
   "version": "3.10.9"
  }
 },
 "nbformat": 4,
 "nbformat_minor": 1
}
